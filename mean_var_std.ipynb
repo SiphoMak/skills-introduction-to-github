{
  "nbformat": 4,
  "nbformat_minor": 0,
  "metadata": {
    "colab": {
      "provenance": [],
      "authorship_tag": "ABX9TyPfNO0s6mrV0kZo1JN4m+s/",
      "include_colab_link": true
    },
    "kernelspec": {
      "name": "python3",
      "display_name": "Python 3"
    },
    "language_info": {
      "name": "python"
    }
  },
  "cells": [
    {
      "cell_type": "markdown",
      "metadata": {
        "id": "view-in-github",
        "colab_type": "text"
      },
      "source": [
        "<a href=\"https://colab.research.google.com/github/SiphoMak/skills-introduction-to-github/blob/main/mean_var_std.ipynb\" target=\"_parent\"><img src=\"https://colab.research.google.com/assets/colab-badge.svg\" alt=\"Open In Colab\"/></a>"
      ]
    },
    {
      "cell_type": "code",
      "execution_count": 1,
      "metadata": {
        "id": "hY3IfSJiArt0"
      },
      "outputs": [],
      "source": [
        " import numpy as np\n"
      ]
    },
    {
      "cell_type": "code",
      "source": [
        "list = [0,1,2,3,4,5,6,7,8]"
      ],
      "metadata": {
        "id": "7MzkiB0jpRDC"
      },
      "execution_count": 2,
      "outputs": []
    },
    {
      "cell_type": "code",
      "source": [
        "def calculate(list):\n",
        "  if len(list) != 9:\n",
        "    raise ValueError('List must contain nine numbers')\n",
        "\n",
        "  ls = np.array(list)\n",
        "\n",
        "  mean_rows = [np.mean(ls[0:3]), np.mean(ls[3:6]), np.mean(ls[6:9])]\n",
        "  mean_columns = [np.mean(ls[[0,3,6]]), np.mean(ls[[1,4,7]]), np.mean(ls[[2,5,8]])]\n",
        "\n",
        "  var_rows = [np.var(ls[0:3]), np.var(ls[3:6]), np.var(ls[6:9])]\n",
        "  var_columns = [np.var(ls[[0,3,6]]), np.var(ls[[1,4,7]]), np.var(ls[[2,5,8]])]\n",
        "\n",
        "  std_rows = [np.std(ls[0:3]), np.std(ls[3:6]), np.std(ls[6:9])]\n",
        "  std_columns = [np.std(ls[[0,3,6]]), np.std(ls[[1,4,7]]), np.std(ls[[2,5,8]])]\n",
        "\n",
        "  min_rows = [np.min(ls[0:3]), np.min(ls[3:6]), np.min(ls[6:9])]\n",
        "  min_columns = [np.min(ls[[0,3,6]]), np.min(ls[[1,4,7]]), np.min(ls[[2,5,8]])]\n",
        "\n",
        "  max_rows = [np.max(ls[0:3]), np.max(ls[3:6]), np.max(ls[6:9])]\n",
        "  max_columns = [np.max(ls[[0,3,6]]), np.max(ls[[1,4,7]]), np.max(ls[[2,5,8]])]\n",
        "\n",
        "  sum_rows = [np.sum(ls[0:3]), np.sum(ls[3:6]), np.sum(ls[6:9])]\n",
        "  sum_columns = [np.sum(ls[[0,3,6]]), np.sum(ls[[1,4,7]]), np.sum(ls[[2,5,8]])]\n",
        "\n",
        "  return {\n",
        "      'mean' : [mean_columns, mean_rows, ls.mean()],\n",
        "      'variance' : [var_columns, var_rows, ls.var()],\n",
        "      'standard deviation' : [std_columns, std_rows, ls.std()],\n",
        "      'max' : [max_columns, max_rows, ls.max()],\n",
        "      'min' : [min_columns, min_rows, ls.min()],\n",
        "      'sum' : [sum_columns, sum_rows, ls.sum()]\n",
        "  }"
      ],
      "metadata": {
        "id": "31TGZiaT3IPG"
      },
      "execution_count": 8,
      "outputs": []
    },
    {
      "cell_type": "code",
      "source": [
        "print(calculate(list))"
      ],
      "metadata": {
        "colab": {
          "base_uri": "https://localhost:8080/"
        },
        "id": "bi8isrQWsFnC",
        "outputId": "55647873-5319-47a8-d610-de61537baa81"
      },
      "execution_count": 9,
      "outputs": [
        {
          "output_type": "stream",
          "name": "stdout",
          "text": [
            "{'mean': [[3.0, 4.0, 5.0], [1.0, 4.0, 7.0], 4.0], 'variance': [[6.0, 6.0, 6.0], [0.6666666666666666, 0.6666666666666666, 0.6666666666666666], 6.666666666666667], 'standard deviation': [[2.449489742783178, 2.449489742783178, 2.449489742783178], [0.816496580927726, 0.816496580927726, 0.816496580927726], 2.581988897471611], 'max': [[6, 7, 8], [2, 5, 8], 8], 'min': [[0, 1, 2], [0, 3, 6], 0], 'sum': [[9, 12, 15], [3, 12, 21], 36]}\n"
          ]
        }
      ]
    }
  ]
}